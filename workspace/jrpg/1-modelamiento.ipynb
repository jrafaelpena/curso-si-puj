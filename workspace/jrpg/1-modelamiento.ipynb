{
 "cells": [
  {
   "cell_type": "markdown",
   "id": "db2c19a6",
   "metadata": {},
   "source": [
    "### SetUp"
   ]
  },
  {
   "cell_type": "code",
   "execution_count": null,
   "id": "c14f6f54",
   "metadata": {},
   "outputs": [],
   "source": [
    "import os\n",
    "from pathlib import Path\n",
    "\n",
    "import torch\n",
    "import torch.nn as nn\n",
    "import torch.nn.functional as F\n",
    "import pandas as pd\n",
    "import numpy as np\n",
    "import seaborn as sns\n",
    "\n",
    "from sklearn.model_selection import train_test_split\n",
    "from sklearn.preprocessing import StandardScaler"
   ]
  },
  {
   "cell_type": "code",
   "execution_count": null,
   "id": "8eea87bd",
   "metadata": {},
   "outputs": [],
   "source": [
    "project_path = Path(Path.cwd()).parent.parent\n",
    "project_path"
   ]
  },
  {
   "cell_type": "code",
   "execution_count": null,
   "id": "1d3db27b",
   "metadata": {},
   "outputs": [],
   "source": [
    "SEED = 7777"
   ]
  },
  {
   "cell_type": "markdown",
   "id": "072e8479",
   "metadata": {},
   "source": [
    "### Load Data"
   ]
  },
  {
   "cell_type": "code",
   "execution_count": null,
   "id": "1557fb48",
   "metadata": {},
   "outputs": [],
   "source": [
    "cancer_detection_path = project_path / \"data/inputs/Lung Cancer Dataset.csv\"\n",
    "df_detection = pd.read_csv(cancer_detection_path)\n",
    "\n",
    "df_detection.columns = [x for x in df_detection.columns.str.lower().str.replace(\" \", \"_\")]\n",
    "\n",
    "df_detection.head(10)"
   ]
  },
  {
   "cell_type": "code",
   "execution_count": null,
   "id": "bd60c137",
   "metadata": {},
   "outputs": [],
   "source": [
    "df_detection.shape"
   ]
  },
  {
   "cell_type": "markdown",
   "id": "867eb082",
   "metadata": {},
   "source": [
    "### Preprocess Data"
   ]
  },
  {
   "cell_type": "code",
   "execution_count": null,
   "id": "c928fc5c",
   "metadata": {},
   "outputs": [],
   "source": [
    "# Convert label column to numerical values\n",
    "label_map_dict = {\n",
    "    'NO': 0,\n",
    "    'YES': 1\n",
    "}\n",
    "\n",
    "df_detection['pulmonary_disease'] = df_detection['pulmonary_disease'].map(label_map_dict)"
   ]
  },
  {
   "cell_type": "code",
   "execution_count": null,
   "id": "e894ef6d",
   "metadata": {},
   "outputs": [],
   "source": [
    "# Convert binary columns to categorical\n",
    "binary_columns = [\n",
    "    'gender',\n",
    "    'smoking',\n",
    "    'finger_discoloration',\n",
    "    'mental_stress',\n",
    "    'exposure_to_pollution',\n",
    "    'long_term_illness',\n",
    "    'immune_weakness',\n",
    "    'breathing_issue',\n",
    "    'alcohol_consumption',\n",
    "    'throat_discomfort',\n",
    "    'chest_tightness',\n",
    "    'family_history',\n",
    "    'smoking_family_history',\n",
    "    'stress_immune',\n",
    "    'pulmonary_disease'\n",
    "]\n",
    "\n",
    "df_detection[binary_columns] = df_detection[binary_columns].astype('category')"
   ]
  },
  {
   "cell_type": "code",
   "execution_count": null,
   "id": "f942b963",
   "metadata": {},
   "outputs": [],
   "source": [
    "X = df_detection.drop(columns=['pulmonary_disease']).values\n",
    "y = df_detection['pulmonary_disease'].values\n",
    "\n",
    "X_train, X_test, y_train, y_test = train_test_split(X, y, test_size=0.15, random_state=SEED, stratify=y)\n",
    "X_train, X_val, y_train, y_val = train_test_split(X_train, y_train, test_size=0.12, random_state=SEED, stratify=y_train)"
   ]
  },
  {
   "cell_type": "code",
   "execution_count": null,
   "id": "36a48512",
   "metadata": {},
   "outputs": [],
   "source": [
    "X_train.mean(axis=0), X_train.std(axis=0)"
   ]
  },
  {
   "cell_type": "code",
   "execution_count": null,
   "id": "6bae8b03",
   "metadata": {},
   "outputs": [],
   "source": [
    "print(\"Train set shape:\", X_train.shape)\n",
    "print(\"Validation set shape:\", X_val.shape)\n",
    "print(\"Test set shape:\", X_test.shape)"
   ]
  },
  {
   "cell_type": "code",
   "execution_count": null,
   "id": "ffb6876b",
   "metadata": {},
   "outputs": [],
   "source": [
    "scaler = StandardScaler()\n",
    "\n",
    "X_train = scaler.fit_transform(X_train)\n",
    "X_val = scaler.transform(X_val)\n",
    "X_test = scaler.transform(X_test)"
   ]
  },
  {
   "cell_type": "code",
   "execution_count": null,
   "id": "08394fe0",
   "metadata": {},
   "outputs": [],
   "source": [
    "X_train.mean(axis=0), X_train.std(axis=0)"
   ]
  },
  {
   "cell_type": "markdown",
   "id": "2c3ead72",
   "metadata": {},
   "source": [
    "### Modeling"
   ]
  },
  {
   "cell_type": "code",
   "execution_count": null,
   "id": "322c6a26",
   "metadata": {},
   "outputs": [],
   "source": [
    "X_train[0]"
   ]
  },
  {
   "cell_type": "code",
   "execution_count": null,
   "id": "aaf627e9",
   "metadata": {},
   "outputs": [],
   "source": [
    "from torch.utils.data import DataLoader, TensorDataset\n",
    "\n",
    "train_ds = TensorDataset(torch.tensor(X_train, dtype=torch.float32), torch.tensor(y_train, dtype=torch.long))\n",
    "val_ds = TensorDataset(torch.tensor(X_val, dtype=torch.float32), torch.tensor(y_val, dtype=torch.long))\n",
    "test_ds = TensorDataset(torch.tensor(X_test, dtype=torch.float32), torch.tensor(y_test, dtype=torch.long))"
   ]
  },
  {
   "cell_type": "code",
   "execution_count": null,
   "id": "c213f107",
   "metadata": {},
   "outputs": [],
   "source": [
    "from torch.nn import Sequential, Linear, ReLU, Dropout\n",
    "\n",
    "mlp = Sequential(\n",
    "    Linear(18, 32),\n",
    "    ReLU(),\n",
    "    Dropout(0.5),\n",
    "    Linear(32, 16),\n",
    "    ReLU(),\n",
    "    Dropout(0.5),\n",
    "    Linear(16, 2)\n",
    ")"
   ]
  },
  {
   "cell_type": "code",
   "execution_count": null,
   "id": "ccb472d7",
   "metadata": {},
   "outputs": [],
   "source": [
    "criterion = nn.CrossEntropyLoss()\n",
    "optimizer = torch.optim.Adam(mlp.parameters(), lr=1e-3)"
   ]
  },
  {
   "cell_type": "code",
   "execution_count": null,
   "id": "e10a3bcd",
   "metadata": {},
   "outputs": [],
   "source": [
    "loader = DataLoader(train_ds, batch_size=32, shuffle=True)"
   ]
  }
 ],
 "metadata": {
  "kernelspec": {
   "display_name": "proyecto-sistemas-inteligentes",
   "language": "python",
   "name": "python3"
  },
  "language_info": {
   "codemirror_mode": {
    "name": "ipython",
    "version": 3
   },
   "file_extension": ".py",
   "mimetype": "text/x-python",
   "name": "python",
   "nbconvert_exporter": "python",
   "pygments_lexer": "ipython3",
   "version": "3.12.11"
  }
 },
 "nbformat": 4,
 "nbformat_minor": 5
}
